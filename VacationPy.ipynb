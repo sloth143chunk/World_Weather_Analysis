{
 "cells": [
  {
   "cell_type": "code",
   "execution_count": 1,
   "metadata": {},
   "outputs": [],
   "source": [
    "# Import the dependencies.\n",
    "import pandas as pd\n",
    "import gmaps\n",
    "import requests\n",
    "# Import the API key.\n",
    "from config import g_key"
   ]
  },
  {
   "cell_type": "code",
   "execution_count": 2,
   "metadata": {},
   "outputs": [
    {
     "data": {
      "text/html": [
       "<div>\n",
       "<style scoped>\n",
       "    .dataframe tbody tr th:only-of-type {\n",
       "        vertical-align: middle;\n",
       "    }\n",
       "\n",
       "    .dataframe tbody tr th {\n",
       "        vertical-align: top;\n",
       "    }\n",
       "\n",
       "    .dataframe thead th {\n",
       "        text-align: right;\n",
       "    }\n",
       "</style>\n",
       "<table border=\"1\" class=\"dataframe\">\n",
       "  <thead>\n",
       "    <tr style=\"text-align: right;\">\n",
       "      <th></th>\n",
       "      <th>City_ID</th>\n",
       "      <th>City</th>\n",
       "      <th>Country</th>\n",
       "      <th>Date</th>\n",
       "      <th>Lat</th>\n",
       "      <th>Lng</th>\n",
       "      <th>Max Temp</th>\n",
       "      <th>Humidity</th>\n",
       "      <th>Cloudiness</th>\n",
       "      <th>Wind Speed</th>\n",
       "    </tr>\n",
       "  </thead>\n",
       "  <tbody>\n",
       "    <tr>\n",
       "      <th>0</th>\n",
       "      <td>0</td>\n",
       "      <td>Abu Samrah</td>\n",
       "      <td>SY</td>\n",
       "      <td>2020-08-22 20:10:19</td>\n",
       "      <td>35.30</td>\n",
       "      <td>37.18</td>\n",
       "      <td>73.42</td>\n",
       "      <td>67</td>\n",
       "      <td>0</td>\n",
       "      <td>7.52</td>\n",
       "    </tr>\n",
       "    <tr>\n",
       "      <th>1</th>\n",
       "      <td>1</td>\n",
       "      <td>Caravelas</td>\n",
       "      <td>BR</td>\n",
       "      <td>2020-08-22 20:07:32</td>\n",
       "      <td>-17.71</td>\n",
       "      <td>-39.25</td>\n",
       "      <td>71.15</td>\n",
       "      <td>77</td>\n",
       "      <td>94</td>\n",
       "      <td>13.06</td>\n",
       "    </tr>\n",
       "    <tr>\n",
       "      <th>2</th>\n",
       "      <td>2</td>\n",
       "      <td>Albany</td>\n",
       "      <td>US</td>\n",
       "      <td>2020-08-22 20:05:37</td>\n",
       "      <td>42.60</td>\n",
       "      <td>-73.97</td>\n",
       "      <td>84.99</td>\n",
       "      <td>41</td>\n",
       "      <td>0</td>\n",
       "      <td>8.59</td>\n",
       "    </tr>\n",
       "    <tr>\n",
       "      <th>3</th>\n",
       "      <td>3</td>\n",
       "      <td>Lebyazhye</td>\n",
       "      <td>RU</td>\n",
       "      <td>2020-08-22 20:10:19</td>\n",
       "      <td>55.27</td>\n",
       "      <td>66.49</td>\n",
       "      <td>50.94</td>\n",
       "      <td>94</td>\n",
       "      <td>0</td>\n",
       "      <td>7.49</td>\n",
       "    </tr>\n",
       "    <tr>\n",
       "      <th>4</th>\n",
       "      <td>4</td>\n",
       "      <td>Sooke</td>\n",
       "      <td>CA</td>\n",
       "      <td>2020-08-22 20:10:20</td>\n",
       "      <td>48.37</td>\n",
       "      <td>-123.73</td>\n",
       "      <td>69.01</td>\n",
       "      <td>59</td>\n",
       "      <td>3</td>\n",
       "      <td>3.00</td>\n",
       "    </tr>\n",
       "  </tbody>\n",
       "</table>\n",
       "</div>"
      ],
      "text/plain": [
       "   City_ID        City Country                 Date    Lat     Lng  Max Temp  \\\n",
       "0        0  Abu Samrah      SY  2020-08-22 20:10:19  35.30   37.18     73.42   \n",
       "1        1   Caravelas      BR  2020-08-22 20:07:32 -17.71  -39.25     71.15   \n",
       "2        2      Albany      US  2020-08-22 20:05:37  42.60  -73.97     84.99   \n",
       "3        3   Lebyazhye      RU  2020-08-22 20:10:19  55.27   66.49     50.94   \n",
       "4        4       Sooke      CA  2020-08-22 20:10:20  48.37 -123.73     69.01   \n",
       "\n",
       "   Humidity  Cloudiness  Wind Speed  \n",
       "0        67           0        7.52  \n",
       "1        77          94       13.06  \n",
       "2        41           0        8.59  \n",
       "3        94           0        7.49  \n",
       "4        59           3        3.00  "
      ]
     },
     "execution_count": 2,
     "metadata": {},
     "output_type": "execute_result"
    }
   ],
   "source": [
    "# Store the CSV you saved created in part one into a DataFrame.\n",
    "city_data_df = pd.read_csv(\"weather_data/cities.csv\")\n",
    "city_data_df.head()"
   ]
  },
  {
   "cell_type": "code",
   "execution_count": 3,
   "metadata": {},
   "outputs": [
    {
     "data": {
      "text/plain": [
       "City_ID         int64\n",
       "City           object\n",
       "Country        object\n",
       "Date           object\n",
       "Lat           float64\n",
       "Lng           float64\n",
       "Max Temp      float64\n",
       "Humidity        int64\n",
       "Cloudiness      int64\n",
       "Wind Speed    float64\n",
       "dtype: object"
      ]
     },
     "execution_count": 3,
     "metadata": {},
     "output_type": "execute_result"
    }
   ],
   "source": [
    "# Get the data types\n",
    "city_data_df.dtypes"
   ]
  },
  {
   "cell_type": "code",
   "execution_count": 4,
   "metadata": {},
   "outputs": [],
   "source": [
    "# Configure gmaps to use your Google API key.\n",
    "gmaps.configure(api_key=g_key)"
   ]
  },
  {
   "cell_type": "code",
   "execution_count": 5,
   "metadata": {},
   "outputs": [],
   "source": [
    "# # 1. Assign the locations to an array of latitude and longitude pairs.\n",
    "# locations = [latitude, longitude]\n",
    "# # 2. Assign the weights variable to some values.\n",
    "# temperatures = # an array of equal length of the locations array.\n",
    "# # 3. Assign the figure variable to the gmaps.figure() attribute.\n",
    "# fig = gmaps.figure()\n",
    "# # 4. Assign the heatmap_layer variable to the heatmap_layer attribute and add in the locations.\n",
    "# heatmap_layer = gmaps.heatmap_layer(locations, weights=temperatures)\n",
    "\n",
    "# # 5. Add the heatmap layer.\n",
    "# fig.add_layer(heatmap_layer)\n",
    "# # 6. Call the figure to plot the data.\n",
    "# fig"
   ]
  },
  {
   "cell_type": "code",
   "execution_count": 6,
   "metadata": {},
   "outputs": [],
   "source": [
    "# # Get the maximum temperature.\n",
    "max_temp = city_data_df[\"Max Temp\"]\n",
    "temps = []\n",
    "for temp in max_temp:\n",
    "    temps.append(max(temp, 0))"
   ]
  },
  {
   "cell_type": "code",
   "execution_count": 7,
   "metadata": {},
   "outputs": [
    {
     "data": {
      "application/vnd.jupyter.widget-view+json": {
       "model_id": "0768fbe853cd4446844d217f4b1e1f18",
       "version_major": 2,
       "version_minor": 0
      },
      "text/plain": [
       "Figure(layout=FigureLayout(height='420px'))"
      ]
     },
     "metadata": {},
     "output_type": "display_data"
    }
   ],
   "source": [
    "# Heatmap of temperature\n",
    "# Get the latitude and longitude.\n",
    "locations = city_data_df[[\"Lat\", \"Lng\"]]\n",
    "# Get the maximum temperature.\n",
    "max_temp = city_data_df[\"Max Temp\"]\n",
    "# Assign the figure variable.\n",
    "# fig = gmaps.figure()\n",
    "fig = gmaps.figure(center=(30.0, 27.0), zoom_level=1.7)\n",
    "# Assign the heatmap variable.\n",
    "# heat_layer = gmaps.heatmap_layer(locations, weights=max_temp)\n",
    "# heat_layer = gmaps.heatmap_layer(locations, weights=temps)\n",
    "# heat_layer = gmaps.heatmap_layer(locations, weights=[max(temp, 0) for temp in max_temp])\n",
    "heat_layer = gmaps.heatmap_layer(locations, weights=temps, dissipating=False, max_intensity=300, point_radius=4)\n",
    "# Add the heatmap layer.\n",
    "fig.add_layer(heat_layer)\n",
    "# Call the figure to plot the data.\n",
    "fig"
   ]
  },
  {
   "cell_type": "code",
   "execution_count": 8,
   "metadata": {},
   "outputs": [],
   "source": [
    "# # Get the percent humidity.\n",
    "percent_humidity = city_data_df[\"Humidity\"]\n",
    "humidity = []\n",
    "for hum in percent_humidity:\n",
    "    humidity.append(max(hum, 0))"
   ]
  },
  {
   "cell_type": "code",
   "execution_count": 9,
   "metadata": {},
   "outputs": [
    {
     "data": {
      "application/vnd.jupyter.widget-view+json": {
       "model_id": "a53a677f2b4149c6bf44b4c4052e808a",
       "version_major": 2,
       "version_minor": 0
      },
      "text/plain": [
       "Figure(layout=FigureLayout(height='420px'))"
      ]
     },
     "metadata": {},
     "output_type": "display_data"
    }
   ],
   "source": [
    "# Heatmap of percent humidity\n",
    "locations = city_data_df[[\"Lat\", \"Lng\"]]\n",
    "percent_humidity = city_data_df[\"Humidity\"]\n",
    "fig = gmaps.figure(center=(30.0, 31.0), zoom_level=1.7)\n",
    "heat_layer = gmaps.heatmap_layer(locations, weights=humidity, dissipating=False, max_intensity=300, point_radius=4)\n",
    "\n",
    "fig.add_layer(heat_layer)\n",
    "# Call the figure to plot the data.\n",
    "fig"
   ]
  },
  {
   "cell_type": "code",
   "execution_count": 10,
   "metadata": {},
   "outputs": [],
   "source": [
    "# # Get the percent cloudiness.\n",
    "percent_cloudiness = city_data_df[\"Cloudiness\"]\n",
    "clouds = []\n",
    "for cloud in percent_cloudiness:\n",
    "    clouds.append(max(cloud, 0))"
   ]
  },
  {
   "cell_type": "code",
   "execution_count": 11,
   "metadata": {},
   "outputs": [
    {
     "data": {
      "application/vnd.jupyter.widget-view+json": {
       "model_id": "2e8d93cc5c6d4b7ab31975a2cba5b165",
       "version_major": 2,
       "version_minor": 0
      },
      "text/plain": [
       "Figure(layout=FigureLayout(height='420px'))"
      ]
     },
     "metadata": {},
     "output_type": "display_data"
    }
   ],
   "source": [
    "# Heatmap of percent cloudiness\n",
    "locations = city_data_df[[\"Lat\", \"Lng\"]]\n",
    "percent_cloudiness = city_data_df[\"Cloudiness\"]\n",
    "fig = gmaps.figure(center=(30.0, 31.0), zoom_level=1.7)\n",
    "heat_layer = gmaps.heatmap_layer(locations, weights=clouds, dissipating=False, max_intensity=300, point_radius=4)\n",
    "\n",
    "fig.add_layer(heat_layer)\n",
    "# Call the figure to plot the data.\n",
    "fig"
   ]
  },
  {
   "cell_type": "code",
   "execution_count": 12,
   "metadata": {},
   "outputs": [],
   "source": [
    "# # Get the Wind Speed.\n",
    "wind_speed = city_data_df[\"Wind Speed\"]\n",
    "winds = []\n",
    "for wind in wind_speed:\n",
    "    winds.append(max(wind, 0))"
   ]
  },
  {
   "cell_type": "code",
   "execution_count": 13,
   "metadata": {},
   "outputs": [
    {
     "data": {
      "application/vnd.jupyter.widget-view+json": {
       "model_id": "b6935c571e0a4f53b89ee90d994dd2f1",
       "version_major": 2,
       "version_minor": 0
      },
      "text/plain": [
       "Figure(layout=FigureLayout(height='420px'))"
      ]
     },
     "metadata": {},
     "output_type": "display_data"
    }
   ],
   "source": [
    "# Heatmap of Wind Speed\n",
    "locations = city_data_df[[\"Lat\", \"Lng\"]]\n",
    "wind_speed = city_data_df[\"Wind Speed\"]\n",
    "fig = gmaps.figure(center=(30.0, 31.0), zoom_level=1.7)\n",
    "heat_layer = gmaps.heatmap_layer(locations, weights=winds, dissipating=False, max_intensity=300, point_radius=4)\n",
    "\n",
    "fig.add_layer(heat_layer)\n",
    "# Call the figure to plot the data.\n",
    "fig"
   ]
  },
  {
   "cell_type": "code",
   "execution_count": 14,
   "metadata": {},
   "outputs": [
    {
     "name": "stdout",
     "output_type": "stream",
     "text": [
      "What is the minimum temperature you would like for your trip? 75\n",
      "What is the maximum temperature you would like for your trip? 90\n"
     ]
    }
   ],
   "source": [
    "# Ask the customer to add a minimum and maximum temperature value.\n",
    "min_temp = float(input(\"What is the minimum temperature you would like for your trip? \"))\n",
    "max_temp = float(input(\"What is the maximum temperature you would like for your trip? \"))"
   ]
  },
  {
   "cell_type": "code",
   "execution_count": 15,
   "metadata": {},
   "outputs": [
    {
     "data": {
      "text/html": [
       "<div>\n",
       "<style scoped>\n",
       "    .dataframe tbody tr th:only-of-type {\n",
       "        vertical-align: middle;\n",
       "    }\n",
       "\n",
       "    .dataframe tbody tr th {\n",
       "        vertical-align: top;\n",
       "    }\n",
       "\n",
       "    .dataframe thead th {\n",
       "        text-align: right;\n",
       "    }\n",
       "</style>\n",
       "<table border=\"1\" class=\"dataframe\">\n",
       "  <thead>\n",
       "    <tr style=\"text-align: right;\">\n",
       "      <th></th>\n",
       "      <th>City_ID</th>\n",
       "      <th>City</th>\n",
       "      <th>Country</th>\n",
       "      <th>Date</th>\n",
       "      <th>Lat</th>\n",
       "      <th>Lng</th>\n",
       "      <th>Max Temp</th>\n",
       "      <th>Humidity</th>\n",
       "      <th>Cloudiness</th>\n",
       "      <th>Wind Speed</th>\n",
       "    </tr>\n",
       "  </thead>\n",
       "  <tbody>\n",
       "    <tr>\n",
       "      <th>2</th>\n",
       "      <td>2</td>\n",
       "      <td>Albany</td>\n",
       "      <td>US</td>\n",
       "      <td>2020-08-22 20:05:37</td>\n",
       "      <td>42.60</td>\n",
       "      <td>-73.97</td>\n",
       "      <td>84.99</td>\n",
       "      <td>41</td>\n",
       "      <td>0</td>\n",
       "      <td>8.59</td>\n",
       "    </tr>\n",
       "    <tr>\n",
       "      <th>8</th>\n",
       "      <td>8</td>\n",
       "      <td>Luwuk</td>\n",
       "      <td>ID</td>\n",
       "      <td>2020-08-22 20:10:21</td>\n",
       "      <td>-0.95</td>\n",
       "      <td>122.79</td>\n",
       "      <td>76.86</td>\n",
       "      <td>80</td>\n",
       "      <td>95</td>\n",
       "      <td>6.73</td>\n",
       "    </tr>\n",
       "    <tr>\n",
       "      <th>12</th>\n",
       "      <td>12</td>\n",
       "      <td>Guanica</td>\n",
       "      <td>PR</td>\n",
       "      <td>2020-08-22 20:10:22</td>\n",
       "      <td>17.97</td>\n",
       "      <td>-66.91</td>\n",
       "      <td>77.00</td>\n",
       "      <td>92</td>\n",
       "      <td>100</td>\n",
       "      <td>1.01</td>\n",
       "    </tr>\n",
       "    <tr>\n",
       "      <th>14</th>\n",
       "      <td>14</td>\n",
       "      <td>Faanui</td>\n",
       "      <td>PF</td>\n",
       "      <td>2020-08-22 20:10:22</td>\n",
       "      <td>-16.48</td>\n",
       "      <td>-151.75</td>\n",
       "      <td>77.02</td>\n",
       "      <td>80</td>\n",
       "      <td>2</td>\n",
       "      <td>24.74</td>\n",
       "    </tr>\n",
       "    <tr>\n",
       "      <th>15</th>\n",
       "      <td>15</td>\n",
       "      <td>Chinna Salem</td>\n",
       "      <td>IN</td>\n",
       "      <td>2020-08-22 20:10:22</td>\n",
       "      <td>11.65</td>\n",
       "      <td>78.90</td>\n",
       "      <td>81.88</td>\n",
       "      <td>75</td>\n",
       "      <td>47</td>\n",
       "      <td>5.99</td>\n",
       "    </tr>\n",
       "    <tr>\n",
       "      <th>21</th>\n",
       "      <td>21</td>\n",
       "      <td>Atuona</td>\n",
       "      <td>PF</td>\n",
       "      <td>2020-08-22 20:07:18</td>\n",
       "      <td>-9.80</td>\n",
       "      <td>-139.03</td>\n",
       "      <td>78.33</td>\n",
       "      <td>78</td>\n",
       "      <td>26</td>\n",
       "      <td>18.39</td>\n",
       "    </tr>\n",
       "    <tr>\n",
       "      <th>23</th>\n",
       "      <td>23</td>\n",
       "      <td>Gilgit</td>\n",
       "      <td>PK</td>\n",
       "      <td>2020-08-22 20:10:24</td>\n",
       "      <td>35.92</td>\n",
       "      <td>74.31</td>\n",
       "      <td>80.85</td>\n",
       "      <td>22</td>\n",
       "      <td>0</td>\n",
       "      <td>1.72</td>\n",
       "    </tr>\n",
       "    <tr>\n",
       "      <th>26</th>\n",
       "      <td>26</td>\n",
       "      <td>Gravelbourg</td>\n",
       "      <td>CA</td>\n",
       "      <td>2020-08-22 20:10:24</td>\n",
       "      <td>49.88</td>\n",
       "      <td>-106.55</td>\n",
       "      <td>89.56</td>\n",
       "      <td>23</td>\n",
       "      <td>82</td>\n",
       "      <td>14.34</td>\n",
       "    </tr>\n",
       "    <tr>\n",
       "      <th>27</th>\n",
       "      <td>27</td>\n",
       "      <td>Butaritari</td>\n",
       "      <td>KI</td>\n",
       "      <td>2020-08-22 20:07:27</td>\n",
       "      <td>3.07</td>\n",
       "      <td>172.79</td>\n",
       "      <td>82.72</td>\n",
       "      <td>65</td>\n",
       "      <td>84</td>\n",
       "      <td>6.98</td>\n",
       "    </tr>\n",
       "    <tr>\n",
       "      <th>29</th>\n",
       "      <td>29</td>\n",
       "      <td>Bengkulu</td>\n",
       "      <td>ID</td>\n",
       "      <td>2020-08-22 20:08:15</td>\n",
       "      <td>-3.80</td>\n",
       "      <td>102.27</td>\n",
       "      <td>75.70</td>\n",
       "      <td>89</td>\n",
       "      <td>74</td>\n",
       "      <td>4.29</td>\n",
       "    </tr>\n",
       "  </tbody>\n",
       "</table>\n",
       "</div>"
      ],
      "text/plain": [
       "    City_ID          City Country                 Date    Lat     Lng  \\\n",
       "2         2        Albany      US  2020-08-22 20:05:37  42.60  -73.97   \n",
       "8         8         Luwuk      ID  2020-08-22 20:10:21  -0.95  122.79   \n",
       "12       12       Guanica      PR  2020-08-22 20:10:22  17.97  -66.91   \n",
       "14       14        Faanui      PF  2020-08-22 20:10:22 -16.48 -151.75   \n",
       "15       15  Chinna Salem      IN  2020-08-22 20:10:22  11.65   78.90   \n",
       "21       21        Atuona      PF  2020-08-22 20:07:18  -9.80 -139.03   \n",
       "23       23        Gilgit      PK  2020-08-22 20:10:24  35.92   74.31   \n",
       "26       26   Gravelbourg      CA  2020-08-22 20:10:24  49.88 -106.55   \n",
       "27       27    Butaritari      KI  2020-08-22 20:07:27   3.07  172.79   \n",
       "29       29      Bengkulu      ID  2020-08-22 20:08:15  -3.80  102.27   \n",
       "\n",
       "    Max Temp  Humidity  Cloudiness  Wind Speed  \n",
       "2      84.99        41           0        8.59  \n",
       "8      76.86        80          95        6.73  \n",
       "12     77.00        92         100        1.01  \n",
       "14     77.02        80           2       24.74  \n",
       "15     81.88        75          47        5.99  \n",
       "21     78.33        78          26       18.39  \n",
       "23     80.85        22           0        1.72  \n",
       "26     89.56        23          82       14.34  \n",
       "27     82.72        65          84        6.98  \n",
       "29     75.70        89          74        4.29  "
      ]
     },
     "execution_count": 15,
     "metadata": {},
     "output_type": "execute_result"
    }
   ],
   "source": [
    "# Filter the dataset to find the cities that fit the criteria.\n",
    "preferred_cities_df = city_data_df.loc[(city_data_df[\"Max Temp\"] <= max_temp) & \\\n",
    "                                       (city_data_df[\"Max Temp\"] >= min_temp)]\n",
    "preferred_cities_df.head(10)"
   ]
  },
  {
   "cell_type": "code",
   "execution_count": 16,
   "metadata": {},
   "outputs": [
    {
     "data": {
      "text/plain": [
       "City_ID       186\n",
       "City          186\n",
       "Country       186\n",
       "Date          186\n",
       "Lat           186\n",
       "Lng           186\n",
       "Max Temp      186\n",
       "Humidity      186\n",
       "Cloudiness    186\n",
       "Wind Speed    186\n",
       "dtype: int64"
      ]
     },
     "execution_count": 16,
     "metadata": {},
     "output_type": "execute_result"
    }
   ],
   "source": [
    "preferred_cities_df.count()"
   ]
  },
  {
   "cell_type": "code",
   "execution_count": 17,
   "metadata": {},
   "outputs": [
    {
     "data": {
      "text/html": [
       "<div>\n",
       "<style scoped>\n",
       "    .dataframe tbody tr th:only-of-type {\n",
       "        vertical-align: middle;\n",
       "    }\n",
       "\n",
       "    .dataframe tbody tr th {\n",
       "        vertical-align: top;\n",
       "    }\n",
       "\n",
       "    .dataframe thead th {\n",
       "        text-align: right;\n",
       "    }\n",
       "</style>\n",
       "<table border=\"1\" class=\"dataframe\">\n",
       "  <thead>\n",
       "    <tr style=\"text-align: right;\">\n",
       "      <th></th>\n",
       "      <th>City</th>\n",
       "      <th>Country</th>\n",
       "      <th>Max Temp</th>\n",
       "      <th>Lat</th>\n",
       "      <th>Lng</th>\n",
       "      <th>Hotel Name</th>\n",
       "    </tr>\n",
       "  </thead>\n",
       "  <tbody>\n",
       "    <tr>\n",
       "      <th>2</th>\n",
       "      <td>Albany</td>\n",
       "      <td>US</td>\n",
       "      <td>84.99</td>\n",
       "      <td>42.60</td>\n",
       "      <td>-73.97</td>\n",
       "      <td></td>\n",
       "    </tr>\n",
       "    <tr>\n",
       "      <th>8</th>\n",
       "      <td>Luwuk</td>\n",
       "      <td>ID</td>\n",
       "      <td>76.86</td>\n",
       "      <td>-0.95</td>\n",
       "      <td>122.79</td>\n",
       "      <td></td>\n",
       "    </tr>\n",
       "    <tr>\n",
       "      <th>12</th>\n",
       "      <td>Guanica</td>\n",
       "      <td>PR</td>\n",
       "      <td>77.00</td>\n",
       "      <td>17.97</td>\n",
       "      <td>-66.91</td>\n",
       "      <td></td>\n",
       "    </tr>\n",
       "    <tr>\n",
       "      <th>14</th>\n",
       "      <td>Faanui</td>\n",
       "      <td>PF</td>\n",
       "      <td>77.02</td>\n",
       "      <td>-16.48</td>\n",
       "      <td>-151.75</td>\n",
       "      <td></td>\n",
       "    </tr>\n",
       "    <tr>\n",
       "      <th>15</th>\n",
       "      <td>Chinna Salem</td>\n",
       "      <td>IN</td>\n",
       "      <td>81.88</td>\n",
       "      <td>11.65</td>\n",
       "      <td>78.90</td>\n",
       "      <td></td>\n",
       "    </tr>\n",
       "    <tr>\n",
       "      <th>21</th>\n",
       "      <td>Atuona</td>\n",
       "      <td>PF</td>\n",
       "      <td>78.33</td>\n",
       "      <td>-9.80</td>\n",
       "      <td>-139.03</td>\n",
       "      <td></td>\n",
       "    </tr>\n",
       "    <tr>\n",
       "      <th>23</th>\n",
       "      <td>Gilgit</td>\n",
       "      <td>PK</td>\n",
       "      <td>80.85</td>\n",
       "      <td>35.92</td>\n",
       "      <td>74.31</td>\n",
       "      <td></td>\n",
       "    </tr>\n",
       "    <tr>\n",
       "      <th>26</th>\n",
       "      <td>Gravelbourg</td>\n",
       "      <td>CA</td>\n",
       "      <td>89.56</td>\n",
       "      <td>49.88</td>\n",
       "      <td>-106.55</td>\n",
       "      <td></td>\n",
       "    </tr>\n",
       "    <tr>\n",
       "      <th>27</th>\n",
       "      <td>Butaritari</td>\n",
       "      <td>KI</td>\n",
       "      <td>82.72</td>\n",
       "      <td>3.07</td>\n",
       "      <td>172.79</td>\n",
       "      <td></td>\n",
       "    </tr>\n",
       "    <tr>\n",
       "      <th>29</th>\n",
       "      <td>Bengkulu</td>\n",
       "      <td>ID</td>\n",
       "      <td>75.70</td>\n",
       "      <td>-3.80</td>\n",
       "      <td>102.27</td>\n",
       "      <td></td>\n",
       "    </tr>\n",
       "  </tbody>\n",
       "</table>\n",
       "</div>"
      ],
      "text/plain": [
       "            City Country  Max Temp    Lat     Lng Hotel Name\n",
       "2         Albany      US     84.99  42.60  -73.97           \n",
       "8          Luwuk      ID     76.86  -0.95  122.79           \n",
       "12       Guanica      PR     77.00  17.97  -66.91           \n",
       "14        Faanui      PF     77.02 -16.48 -151.75           \n",
       "15  Chinna Salem      IN     81.88  11.65   78.90           \n",
       "21        Atuona      PF     78.33  -9.80 -139.03           \n",
       "23        Gilgit      PK     80.85  35.92   74.31           \n",
       "26   Gravelbourg      CA     89.56  49.88 -106.55           \n",
       "27    Butaritari      KI     82.72   3.07  172.79           \n",
       "29      Bengkulu      ID     75.70  -3.80  102.27           "
      ]
     },
     "execution_count": 17,
     "metadata": {},
     "output_type": "execute_result"
    }
   ],
   "source": [
    "# Create DataFrame called hotel_df to store hotel names along with city, country, max temp, and coordinates.\n",
    "hotel_df = preferred_cities_df[[\"City\", \"Country\", \"Max Temp\", \"Lat\", \"Lng\"]].copy()\n",
    "hotel_df[\"Hotel Name\"] = \"\"\n",
    "hotel_df.head(10)"
   ]
  },
  {
   "cell_type": "code",
   "execution_count": 18,
   "metadata": {},
   "outputs": [],
   "source": [
    "# Set parameters to search for a hotel.\n",
    "params = {\n",
    "    \"radius\": 5000,\n",
    "    \"type\": \"lodging\",\n",
    "    \"key\": g_key\n",
    "}"
   ]
  },
  {
   "cell_type": "code",
   "execution_count": 19,
   "metadata": {},
   "outputs": [
    {
     "name": "stdout",
     "output_type": "stream",
     "text": [
      "Hotel not found... skipping.\n",
      "Hotel not found... skipping.\n",
      "Hotel not found... skipping.\n",
      "Hotel not found... skipping.\n",
      "Hotel not found... skipping.\n",
      "Hotel not found... skipping.\n",
      "Hotel not found... skipping.\n",
      "Hotel not found... skipping.\n",
      "Hotel not found... skipping.\n",
      "Hotel not found... skipping.\n",
      "Hotel not found... skipping.\n",
      "Hotel not found... skipping.\n",
      "Hotel not found... skipping.\n"
     ]
    }
   ],
   "source": [
    "# Iterate through the DataFrame.\n",
    "for index, row in hotel_df.iterrows():\n",
    "    # Get the latitude and longitude.\n",
    "    lat = row[\"Lat\"]\n",
    "    lng = row[\"Lng\"]\n",
    "\n",
    "    # Add the latitude and longitude to location key for the params dictionary.\n",
    "    params[\"location\"] = f\"{lat},{lng}\"\n",
    "\n",
    "    # Use the search term: \"lodging\" and our latitude and longitude.\n",
    "    base_url = \"https://maps.googleapis.com/maps/api/place/nearbysearch/json\"\n",
    "    # Make request and get the JSON data from the search.\n",
    "    hotels = requests.get(base_url, params=params).json()\n",
    "    # Grab the first hotel from the results and store the name.\n",
    "    # hotel_df.loc[index, \"Hotel Name\"] = hotels[\"results\"][0][\"name\"]\n",
    "    # Grab the first hotel from the results and store the name.\n",
    "    try:\n",
    "        hotel_df.loc[index, \"Hotel Name\"] = hotels[\"results\"][0][\"name\"]\n",
    "    except (IndexError):\n",
    "        print(\"Hotel not found... skipping.\")"
   ]
  },
  {
   "cell_type": "code",
   "execution_count": 20,
   "metadata": {},
   "outputs": [
    {
     "data": {
      "text/html": [
       "<div>\n",
       "<style scoped>\n",
       "    .dataframe tbody tr th:only-of-type {\n",
       "        vertical-align: middle;\n",
       "    }\n",
       "\n",
       "    .dataframe tbody tr th {\n",
       "        vertical-align: top;\n",
       "    }\n",
       "\n",
       "    .dataframe thead th {\n",
       "        text-align: right;\n",
       "    }\n",
       "</style>\n",
       "<table border=\"1\" class=\"dataframe\">\n",
       "  <thead>\n",
       "    <tr style=\"text-align: right;\">\n",
       "      <th></th>\n",
       "      <th>City</th>\n",
       "      <th>Country</th>\n",
       "      <th>Max Temp</th>\n",
       "      <th>Lat</th>\n",
       "      <th>Lng</th>\n",
       "      <th>Hotel Name</th>\n",
       "    </tr>\n",
       "  </thead>\n",
       "  <tbody>\n",
       "    <tr>\n",
       "      <th>2</th>\n",
       "      <td>Albany</td>\n",
       "      <td>US</td>\n",
       "      <td>84.99</td>\n",
       "      <td>42.60</td>\n",
       "      <td>-73.97</td>\n",
       "      <td></td>\n",
       "    </tr>\n",
       "    <tr>\n",
       "      <th>8</th>\n",
       "      <td>Luwuk</td>\n",
       "      <td>ID</td>\n",
       "      <td>76.86</td>\n",
       "      <td>-0.95</td>\n",
       "      <td>122.79</td>\n",
       "      <td>Hotel Santika Luwuk</td>\n",
       "    </tr>\n",
       "    <tr>\n",
       "      <th>12</th>\n",
       "      <td>Guanica</td>\n",
       "      <td>PR</td>\n",
       "      <td>77.00</td>\n",
       "      <td>17.97</td>\n",
       "      <td>-66.91</td>\n",
       "      <td>Copamarina Beach Resort &amp; Spa</td>\n",
       "    </tr>\n",
       "    <tr>\n",
       "      <th>14</th>\n",
       "      <td>Faanui</td>\n",
       "      <td>PF</td>\n",
       "      <td>77.02</td>\n",
       "      <td>-16.48</td>\n",
       "      <td>-151.75</td>\n",
       "      <td>Bora-Bora Pearl Beach Resort &amp; Spa</td>\n",
       "    </tr>\n",
       "    <tr>\n",
       "      <th>15</th>\n",
       "      <td>Chinna Salem</td>\n",
       "      <td>IN</td>\n",
       "      <td>81.88</td>\n",
       "      <td>11.65</td>\n",
       "      <td>78.90</td>\n",
       "      <td>SVA Lodge</td>\n",
       "    </tr>\n",
       "    <tr>\n",
       "      <th>21</th>\n",
       "      <td>Atuona</td>\n",
       "      <td>PF</td>\n",
       "      <td>78.33</td>\n",
       "      <td>-9.80</td>\n",
       "      <td>-139.03</td>\n",
       "      <td>Villa Enata</td>\n",
       "    </tr>\n",
       "    <tr>\n",
       "      <th>23</th>\n",
       "      <td>Gilgit</td>\n",
       "      <td>PK</td>\n",
       "      <td>80.85</td>\n",
       "      <td>35.92</td>\n",
       "      <td>74.31</td>\n",
       "      <td>Tourist Hamlet Gilgit</td>\n",
       "    </tr>\n",
       "    <tr>\n",
       "      <th>26</th>\n",
       "      <td>Gravelbourg</td>\n",
       "      <td>CA</td>\n",
       "      <td>89.56</td>\n",
       "      <td>49.88</td>\n",
       "      <td>-106.55</td>\n",
       "      <td>Historic Bishops Residence Bed &amp; Breakfast</td>\n",
       "    </tr>\n",
       "    <tr>\n",
       "      <th>27</th>\n",
       "      <td>Butaritari</td>\n",
       "      <td>KI</td>\n",
       "      <td>82.72</td>\n",
       "      <td>3.07</td>\n",
       "      <td>172.79</td>\n",
       "      <td>Isles Sunset Lodge</td>\n",
       "    </tr>\n",
       "    <tr>\n",
       "      <th>29</th>\n",
       "      <td>Bengkulu</td>\n",
       "      <td>ID</td>\n",
       "      <td>75.70</td>\n",
       "      <td>-3.80</td>\n",
       "      <td>102.27</td>\n",
       "      <td>Grage Hotel Bengkulu</td>\n",
       "    </tr>\n",
       "  </tbody>\n",
       "</table>\n",
       "</div>"
      ],
      "text/plain": [
       "            City Country  Max Temp    Lat     Lng  \\\n",
       "2         Albany      US     84.99  42.60  -73.97   \n",
       "8          Luwuk      ID     76.86  -0.95  122.79   \n",
       "12       Guanica      PR     77.00  17.97  -66.91   \n",
       "14        Faanui      PF     77.02 -16.48 -151.75   \n",
       "15  Chinna Salem      IN     81.88  11.65   78.90   \n",
       "21        Atuona      PF     78.33  -9.80 -139.03   \n",
       "23        Gilgit      PK     80.85  35.92   74.31   \n",
       "26   Gravelbourg      CA     89.56  49.88 -106.55   \n",
       "27    Butaritari      KI     82.72   3.07  172.79   \n",
       "29      Bengkulu      ID     75.70  -3.80  102.27   \n",
       "\n",
       "                                    Hotel Name  \n",
       "2                                               \n",
       "8                          Hotel Santika Luwuk  \n",
       "12               Copamarina Beach Resort & Spa  \n",
       "14          Bora-Bora Pearl Beach Resort & Spa  \n",
       "15                                   SVA Lodge  \n",
       "21                                 Villa Enata  \n",
       "23                       Tourist Hamlet Gilgit  \n",
       "26  Historic Bishops Residence Bed & Breakfast  \n",
       "27                          Isles Sunset Lodge  \n",
       "29                        Grage Hotel Bengkulu  "
      ]
     },
     "execution_count": 20,
     "metadata": {},
     "output_type": "execute_result"
    }
   ],
   "source": [
    "hotel_df.head(10)"
   ]
  },
  {
   "cell_type": "code",
   "execution_count": 21,
   "metadata": {},
   "outputs": [
    {
     "data": {
      "application/vnd.jupyter.widget-view+json": {
       "model_id": "0f2767db449241b496f6223dbda3dc99",
       "version_major": 2,
       "version_minor": 0
      },
      "text/plain": [
       "Figure(layout=FigureLayout(height='420px'))"
      ]
     },
     "metadata": {},
     "output_type": "display_data"
    }
   ],
   "source": [
    "# Add a heatmap of temperature for the vacation spots.\n",
    "locations = hotel_df[[\"Lat\", \"Lng\"]]\n",
    "max_temp = hotel_df[\"Max Temp\"]\n",
    "fig = gmaps.figure(center=(30.0, 31.0), zoom_level=1.5)\n",
    "heat_layer = gmaps.heatmap_layer(locations, weights=max_temp, dissipating=False,\n",
    "             max_intensity=300, point_radius=4)\n",
    "\n",
    "fig.add_layer(heat_layer)\n",
    "# Call the figure to plot the data.\n",
    "fig"
   ]
  },
  {
   "cell_type": "code",
   "execution_count": 22,
   "metadata": {},
   "outputs": [
    {
     "data": {
      "application/vnd.jupyter.widget-view+json": {
       "model_id": "ce0128cb0c12462dba0947fb15d0f688",
       "version_major": 2,
       "version_minor": 0
      },
      "text/plain": [
       "Figure(layout=FigureLayout(height='420px'))"
      ]
     },
     "metadata": {},
     "output_type": "display_data"
    }
   ],
   "source": [
    "# Add a heatmap of temperature for the vacation spots and marker for each city.\n",
    "locations = hotel_df[[\"Lat\", \"Lng\"]]\n",
    "max_temp = hotel_df[\"Max Temp\"]\n",
    "fig = gmaps.figure(center=(30.0, 31.0), zoom_level=1.5)\n",
    "heat_layer = gmaps.heatmap_layer(locations, weights=max_temp,\n",
    "             dissipating=False, max_intensity=300, point_radius=4)\n",
    "marker_layer = gmaps.marker_layer(locations)\n",
    "fig.add_layer(heat_layer)\n",
    "fig.add_layer(marker_layer)\n",
    "# Call the figure to plot the data.\n",
    "fig"
   ]
  },
  {
   "cell_type": "code",
   "execution_count": 23,
   "metadata": {},
   "outputs": [],
   "source": [
    "# info_box_template = \"\"\"\n",
    "# <dl>\n",
    "# <dt>Name</dt><dd>{column1}</dd>\n",
    "# <dt>Another name</dt><dd>{column2}</dd>\n",
    "# </dl>\n",
    "# \"\"\"\n",
    "\n",
    "info_box_template = \"\"\"\n",
    "<dl>\n",
    "<dt>Hotel Name</dt><dd>{Hotel Name}</dd>\n",
    "<dt>City</dt><dd>{City}</dd>\n",
    "<dt>Country</dt><dd>{Country}</dd>\n",
    "<dt>Max Temp</dt><dd>{Max Temp} °F</dd>\n",
    "</dl>\n",
    "\"\"\"\n",
    "# Store the DataFrame Row.\n",
    "hotel_info = [info_box_template.format(**row) for index, row in hotel_df.iterrows()]"
   ]
  },
  {
   "cell_type": "code",
   "execution_count": 24,
   "metadata": {},
   "outputs": [
    {
     "data": {
      "application/vnd.jupyter.widget-view+json": {
       "model_id": "4288df5093fc4fdcb3cb129dd234e179",
       "version_major": 2,
       "version_minor": 0
      },
      "text/plain": [
       "Figure(layout=FigureLayout(height='420px'))"
      ]
     },
     "metadata": {},
     "output_type": "display_data"
    }
   ],
   "source": [
    "# Add a heatmap of temperature for the vacation spots and a pop-up marker for each city.\n",
    "locations = hotel_df[[\"Lat\", \"Lng\"]]\n",
    "max_temp = hotel_df[\"Max Temp\"]\n",
    "fig = gmaps.figure(center=(30.0, 31.0), zoom_level=1.5)\n",
    "heat_layer = gmaps.heatmap_layer(locations, weights=max_temp,dissipating=False,\n",
    "             max_intensity=300, point_radius=4)\n",
    "marker_layer = gmaps.marker_layer(locations, info_box_content=hotel_info)\n",
    "fig.add_layer(heat_layer)\n",
    "fig.add_layer(marker_layer)\n",
    "\n",
    "# Call the figure to plot the data.\n",
    "fig"
   ]
  },
  {
   "cell_type": "code",
   "execution_count": null,
   "metadata": {},
   "outputs": [],
   "source": []
  }
 ],
 "metadata": {
  "kernelspec": {
   "display_name": "PythonData",
   "language": "python",
   "name": "pythondata"
  },
  "language_info": {
   "codemirror_mode": {
    "name": "ipython",
    "version": 3
   },
   "file_extension": ".py",
   "mimetype": "text/x-python",
   "name": "python",
   "nbconvert_exporter": "python",
   "pygments_lexer": "ipython3",
   "version": "3.7.7"
  }
 },
 "nbformat": 4,
 "nbformat_minor": 4
}
